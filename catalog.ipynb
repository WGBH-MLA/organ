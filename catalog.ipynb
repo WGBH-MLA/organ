{
 "cells": [
  {
   "cell_type": "code",
   "execution_count": null,
   "metadata": {},
   "outputs": [],
   "source": [
    "from csv import DictReader\n",
    "\n",
    "with open('ov_catalog.csv') as f:\n",
    "    csv = DictReader(f)\n",
    "    catalog = list(csv)"
   ]
  },
  {
   "cell_type": "code",
   "execution_count": null,
   "metadata": {},
   "outputs": [],
   "source": [
    "from organ.db import engine\n",
    "from sqlmodel import Session\n",
    "from organ.models import OpenVaultCatalog\n",
    "\n",
    "with Session(engine) as session:\n",
    "    for item in catalog:\n",
    "        session.add(OpenVaultCatalog(**item))\n",
    "    session.commit()"
   ]
  }
 ],
 "metadata": {
  "kernelspec": {
   "display_name": ".venv",
   "language": "python",
   "name": "python3"
  },
  "language_info": {
   "codemirror_mode": {
    "name": "ipython",
    "version": 3
   },
   "file_extension": ".py",
   "mimetype": "text/x-python",
   "name": "python",
   "nbconvert_exporter": "python",
   "pygments_lexer": "ipython3",
   "version": "3.12.4"
  }
 },
 "nbformat": 4,
 "nbformat_minor": 2
}
